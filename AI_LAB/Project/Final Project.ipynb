{
 "cells": [
  {
   "cell_type": "code",
   "execution_count": 1,
   "id": "21d750cf",
   "metadata": {},
   "outputs": [],
   "source": [
    "import pandas as pd\n",
    "import numpy as np"
   ]
  },
  {
   "cell_type": "code",
   "execution_count": 2,
   "id": "c617ca76",
   "metadata": {},
   "outputs": [],
   "source": [
    "df1 = pd.read_csv('./Dataset/amazon_prime_titles.csv')\n",
    "df2 = pd.read_csv('./Dataset/disney_plus_titles.csv')\n",
    "df3 = pd.read_csv('./Dataset/hulu_titles.csv')\n",
    "df4 = pd.read_csv('./Dataset/netflix_titles.csv')"
   ]
  },
  {
   "cell_type": "code",
   "execution_count": 3,
   "id": "6c187015",
   "metadata": {},
   "outputs": [
    {
     "data": {
      "text/html": [
       "<div>\n",
       "<style scoped>\n",
       "    .dataframe tbody tr th:only-of-type {\n",
       "        vertical-align: middle;\n",
       "    }\n",
       "\n",
       "    .dataframe tbody tr th {\n",
       "        vertical-align: top;\n",
       "    }\n",
       "\n",
       "    .dataframe thead th {\n",
       "        text-align: right;\n",
       "    }\n",
       "</style>\n",
       "<table border=\"1\" class=\"dataframe\">\n",
       "  <thead>\n",
       "    <tr style=\"text-align: right;\">\n",
       "      <th></th>\n",
       "      <th>show_id</th>\n",
       "      <th>type</th>\n",
       "      <th>title</th>\n",
       "      <th>director</th>\n",
       "      <th>cast</th>\n",
       "      <th>country</th>\n",
       "      <th>date_added</th>\n",
       "      <th>release_year</th>\n",
       "      <th>rating</th>\n",
       "      <th>duration</th>\n",
       "      <th>listed_in</th>\n",
       "      <th>description</th>\n",
       "    </tr>\n",
       "  </thead>\n",
       "  <tbody>\n",
       "    <tr>\n",
       "      <th>0</th>\n",
       "      <td>s1</td>\n",
       "      <td>Movie</td>\n",
       "      <td>The Grand Seduction</td>\n",
       "      <td>Don McKellar</td>\n",
       "      <td>Brendan Gleeson, Taylor Kitsch, Gordon Pinsent</td>\n",
       "      <td>Canada</td>\n",
       "      <td>March 30, 2021</td>\n",
       "      <td>2014</td>\n",
       "      <td>NaN</td>\n",
       "      <td>113 min</td>\n",
       "      <td>Comedy, Drama</td>\n",
       "      <td>A small fishing village must procure a local d...</td>\n",
       "    </tr>\n",
       "    <tr>\n",
       "      <th>1</th>\n",
       "      <td>s2</td>\n",
       "      <td>Movie</td>\n",
       "      <td>Take Care Good Night</td>\n",
       "      <td>Girish Joshi</td>\n",
       "      <td>Mahesh Manjrekar, Abhay Mahajan, Sachin Khedekar</td>\n",
       "      <td>India</td>\n",
       "      <td>March 30, 2021</td>\n",
       "      <td>2018</td>\n",
       "      <td>13+</td>\n",
       "      <td>110 min</td>\n",
       "      <td>Drama, International</td>\n",
       "      <td>A Metro Family decides to fight a Cyber Crimin...</td>\n",
       "    </tr>\n",
       "    <tr>\n",
       "      <th>2</th>\n",
       "      <td>s3</td>\n",
       "      <td>Movie</td>\n",
       "      <td>Secrets of Deception</td>\n",
       "      <td>Josh Webber</td>\n",
       "      <td>Tom Sizemore, Lorenzo Lamas, Robert LaSardo, R...</td>\n",
       "      <td>United States</td>\n",
       "      <td>March 30, 2021</td>\n",
       "      <td>2017</td>\n",
       "      <td>NaN</td>\n",
       "      <td>74 min</td>\n",
       "      <td>Action, Drama, Suspense</td>\n",
       "      <td>After a man discovers his wife is cheating on ...</td>\n",
       "    </tr>\n",
       "    <tr>\n",
       "      <th>3</th>\n",
       "      <td>s4</td>\n",
       "      <td>Movie</td>\n",
       "      <td>Pink: Staying True</td>\n",
       "      <td>Sonia Anderson</td>\n",
       "      <td>Interviews with: Pink, Adele, Beyoncé, Britney...</td>\n",
       "      <td>United States</td>\n",
       "      <td>March 30, 2021</td>\n",
       "      <td>2014</td>\n",
       "      <td>NaN</td>\n",
       "      <td>69 min</td>\n",
       "      <td>Documentary</td>\n",
       "      <td>Pink breaks the mold once again, bringing her ...</td>\n",
       "    </tr>\n",
       "    <tr>\n",
       "      <th>4</th>\n",
       "      <td>s5</td>\n",
       "      <td>Movie</td>\n",
       "      <td>Monster Maker</td>\n",
       "      <td>Giles Foster</td>\n",
       "      <td>Harry Dean Stanton, Kieran O'Brien, George Cos...</td>\n",
       "      <td>United Kingdom</td>\n",
       "      <td>March 30, 2021</td>\n",
       "      <td>1989</td>\n",
       "      <td>NaN</td>\n",
       "      <td>45 min</td>\n",
       "      <td>Drama, Fantasy</td>\n",
       "      <td>Teenage Matt Banting wants to work with a famo...</td>\n",
       "    </tr>\n",
       "    <tr>\n",
       "      <th>...</th>\n",
       "      <td>...</td>\n",
       "      <td>...</td>\n",
       "      <td>...</td>\n",
       "      <td>...</td>\n",
       "      <td>...</td>\n",
       "      <td>...</td>\n",
       "      <td>...</td>\n",
       "      <td>...</td>\n",
       "      <td>...</td>\n",
       "      <td>...</td>\n",
       "      <td>...</td>\n",
       "      <td>...</td>\n",
       "    </tr>\n",
       "    <tr>\n",
       "      <th>22993</th>\n",
       "      <td>s8803</td>\n",
       "      <td>Movie</td>\n",
       "      <td>Zodiac</td>\n",
       "      <td>David Fincher</td>\n",
       "      <td>Mark Ruffalo, Jake Gyllenhaal, Robert Downey J...</td>\n",
       "      <td>United States</td>\n",
       "      <td>November 20, 2019</td>\n",
       "      <td>2007</td>\n",
       "      <td>R</td>\n",
       "      <td>158 min</td>\n",
       "      <td>Cult Movies, Dramas, Thrillers</td>\n",
       "      <td>A political cartoonist, a crime reporter and a...</td>\n",
       "    </tr>\n",
       "    <tr>\n",
       "      <th>22994</th>\n",
       "      <td>s8804</td>\n",
       "      <td>TV Show</td>\n",
       "      <td>Zombie Dumb</td>\n",
       "      <td>NaN</td>\n",
       "      <td>NaN</td>\n",
       "      <td>NaN</td>\n",
       "      <td>July 1, 2019</td>\n",
       "      <td>2018</td>\n",
       "      <td>TV-Y7</td>\n",
       "      <td>2 Seasons</td>\n",
       "      <td>Kids' TV, Korean TV Shows, TV Comedies</td>\n",
       "      <td>While living alone in a spooky town, a young g...</td>\n",
       "    </tr>\n",
       "    <tr>\n",
       "      <th>22995</th>\n",
       "      <td>s8805</td>\n",
       "      <td>Movie</td>\n",
       "      <td>Zombieland</td>\n",
       "      <td>Ruben Fleischer</td>\n",
       "      <td>Jesse Eisenberg, Woody Harrelson, Emma Stone, ...</td>\n",
       "      <td>United States</td>\n",
       "      <td>November 1, 2019</td>\n",
       "      <td>2009</td>\n",
       "      <td>R</td>\n",
       "      <td>88 min</td>\n",
       "      <td>Comedies, Horror Movies</td>\n",
       "      <td>Looking to survive in a world taken over by zo...</td>\n",
       "    </tr>\n",
       "    <tr>\n",
       "      <th>22996</th>\n",
       "      <td>s8806</td>\n",
       "      <td>Movie</td>\n",
       "      <td>Zoom</td>\n",
       "      <td>Peter Hewitt</td>\n",
       "      <td>Tim Allen, Courteney Cox, Chevy Chase, Kate Ma...</td>\n",
       "      <td>United States</td>\n",
       "      <td>January 11, 2020</td>\n",
       "      <td>2006</td>\n",
       "      <td>PG</td>\n",
       "      <td>88 min</td>\n",
       "      <td>Children &amp; Family Movies, Comedies</td>\n",
       "      <td>Dragged from civilian life, a former superhero...</td>\n",
       "    </tr>\n",
       "    <tr>\n",
       "      <th>22997</th>\n",
       "      <td>s8807</td>\n",
       "      <td>Movie</td>\n",
       "      <td>Zubaan</td>\n",
       "      <td>Mozez Singh</td>\n",
       "      <td>Vicky Kaushal, Sarah-Jane Dias, Raaghav Chanan...</td>\n",
       "      <td>India</td>\n",
       "      <td>March 2, 2019</td>\n",
       "      <td>2015</td>\n",
       "      <td>TV-14</td>\n",
       "      <td>111 min</td>\n",
       "      <td>Dramas, International Movies, Music &amp; Musicals</td>\n",
       "      <td>A scrappy but poor boy worms his way into a ty...</td>\n",
       "    </tr>\n",
       "  </tbody>\n",
       "</table>\n",
       "<p>22998 rows × 12 columns</p>\n",
       "</div>"
      ],
      "text/plain": [
       "      show_id     type                 title         director  \\\n",
       "0          s1    Movie   The Grand Seduction     Don McKellar   \n",
       "1          s2    Movie  Take Care Good Night     Girish Joshi   \n",
       "2          s3    Movie  Secrets of Deception      Josh Webber   \n",
       "3          s4    Movie    Pink: Staying True   Sonia Anderson   \n",
       "4          s5    Movie         Monster Maker     Giles Foster   \n",
       "...       ...      ...                   ...              ...   \n",
       "22993   s8803    Movie                Zodiac    David Fincher   \n",
       "22994   s8804  TV Show           Zombie Dumb              NaN   \n",
       "22995   s8805    Movie            Zombieland  Ruben Fleischer   \n",
       "22996   s8806    Movie                  Zoom     Peter Hewitt   \n",
       "22997   s8807    Movie                Zubaan      Mozez Singh   \n",
       "\n",
       "                                                    cast         country  \\\n",
       "0         Brendan Gleeson, Taylor Kitsch, Gordon Pinsent          Canada   \n",
       "1       Mahesh Manjrekar, Abhay Mahajan, Sachin Khedekar           India   \n",
       "2      Tom Sizemore, Lorenzo Lamas, Robert LaSardo, R...   United States   \n",
       "3      Interviews with: Pink, Adele, Beyoncé, Britney...   United States   \n",
       "4      Harry Dean Stanton, Kieran O'Brien, George Cos...  United Kingdom   \n",
       "...                                                  ...             ...   \n",
       "22993  Mark Ruffalo, Jake Gyllenhaal, Robert Downey J...   United States   \n",
       "22994                                                NaN             NaN   \n",
       "22995  Jesse Eisenberg, Woody Harrelson, Emma Stone, ...   United States   \n",
       "22996  Tim Allen, Courteney Cox, Chevy Chase, Kate Ma...   United States   \n",
       "22997  Vicky Kaushal, Sarah-Jane Dias, Raaghav Chanan...           India   \n",
       "\n",
       "              date_added  release_year rating   duration  \\\n",
       "0         March 30, 2021          2014    NaN    113 min   \n",
       "1         March 30, 2021          2018    13+    110 min   \n",
       "2         March 30, 2021          2017    NaN     74 min   \n",
       "3         March 30, 2021          2014    NaN     69 min   \n",
       "4         March 30, 2021          1989    NaN     45 min   \n",
       "...                  ...           ...    ...        ...   \n",
       "22993  November 20, 2019          2007      R    158 min   \n",
       "22994       July 1, 2019          2018  TV-Y7  2 Seasons   \n",
       "22995   November 1, 2019          2009      R     88 min   \n",
       "22996   January 11, 2020          2006     PG     88 min   \n",
       "22997      March 2, 2019          2015  TV-14    111 min   \n",
       "\n",
       "                                            listed_in  \\\n",
       "0                                       Comedy, Drama   \n",
       "1                                Drama, International   \n",
       "2                             Action, Drama, Suspense   \n",
       "3                                         Documentary   \n",
       "4                                      Drama, Fantasy   \n",
       "...                                               ...   \n",
       "22993                  Cult Movies, Dramas, Thrillers   \n",
       "22994          Kids' TV, Korean TV Shows, TV Comedies   \n",
       "22995                         Comedies, Horror Movies   \n",
       "22996              Children & Family Movies, Comedies   \n",
       "22997  Dramas, International Movies, Music & Musicals   \n",
       "\n",
       "                                             description  \n",
       "0      A small fishing village must procure a local d...  \n",
       "1      A Metro Family decides to fight a Cyber Crimin...  \n",
       "2      After a man discovers his wife is cheating on ...  \n",
       "3      Pink breaks the mold once again, bringing her ...  \n",
       "4      Teenage Matt Banting wants to work with a famo...  \n",
       "...                                                  ...  \n",
       "22993  A political cartoonist, a crime reporter and a...  \n",
       "22994  While living alone in a spooky town, a young g...  \n",
       "22995  Looking to survive in a world taken over by zo...  \n",
       "22996  Dragged from civilian life, a former superhero...  \n",
       "22997  A scrappy but poor boy worms his way into a ty...  \n",
       "\n",
       "[22998 rows x 12 columns]"
      ]
     },
     "execution_count": 3,
     "metadata": {},
     "output_type": "execute_result"
    }
   ],
   "source": [
    "df = pd.concat([df1, df2, df3, df4], ignore_index=True)\n",
    "df"
   ]
  },
  {
   "cell_type": "code",
   "execution_count": 4,
   "id": "c5a48f63",
   "metadata": {},
   "outputs": [
    {
     "name": "stdout",
     "output_type": "stream",
     "text": [
      "Number of Rows: 22998\n",
      "Number of Columns: 12\n"
     ]
    }
   ],
   "source": [
    "print(f\"Number of Rows: {df.shape[0]}\\nNumber of Columns: {df.shape[1]}\")"
   ]
  },
  {
   "cell_type": "code",
   "execution_count": 5,
   "id": "ab62c276",
   "metadata": {},
   "outputs": [
    {
     "data": {
      "text/html": [
       "<div>\n",
       "<style scoped>\n",
       "    .dataframe tbody tr th:only-of-type {\n",
       "        vertical-align: middle;\n",
       "    }\n",
       "\n",
       "    .dataframe tbody tr th {\n",
       "        vertical-align: top;\n",
       "    }\n",
       "\n",
       "    .dataframe thead th {\n",
       "        text-align: right;\n",
       "    }\n",
       "</style>\n",
       "<table border=\"1\" class=\"dataframe\">\n",
       "  <thead>\n",
       "    <tr style=\"text-align: right;\">\n",
       "      <th></th>\n",
       "      <th>show_id</th>\n",
       "      <th>type</th>\n",
       "      <th>title</th>\n",
       "      <th>director</th>\n",
       "      <th>cast</th>\n",
       "      <th>country</th>\n",
       "      <th>date_added</th>\n",
       "      <th>release_year</th>\n",
       "      <th>rating</th>\n",
       "      <th>duration</th>\n",
       "      <th>listed_in</th>\n",
       "      <th>description</th>\n",
       "    </tr>\n",
       "  </thead>\n",
       "  <tbody>\n",
       "    <tr>\n",
       "      <th>0</th>\n",
       "      <td>s1</td>\n",
       "      <td>Movie</td>\n",
       "      <td>The Grand Seduction</td>\n",
       "      <td>Don McKellar</td>\n",
       "      <td>Brendan Gleeson, Taylor Kitsch, Gordon Pinsent</td>\n",
       "      <td>Canada</td>\n",
       "      <td>March 30, 2021</td>\n",
       "      <td>2014</td>\n",
       "      <td>NaN</td>\n",
       "      <td>113 min</td>\n",
       "      <td>Comedy, Drama</td>\n",
       "      <td>A small fishing village must procure a local d...</td>\n",
       "    </tr>\n",
       "    <tr>\n",
       "      <th>1</th>\n",
       "      <td>s2</td>\n",
       "      <td>Movie</td>\n",
       "      <td>Take Care Good Night</td>\n",
       "      <td>Girish Joshi</td>\n",
       "      <td>Mahesh Manjrekar, Abhay Mahajan, Sachin Khedekar</td>\n",
       "      <td>India</td>\n",
       "      <td>March 30, 2021</td>\n",
       "      <td>2018</td>\n",
       "      <td>13+</td>\n",
       "      <td>110 min</td>\n",
       "      <td>Drama, International</td>\n",
       "      <td>A Metro Family decides to fight a Cyber Crimin...</td>\n",
       "    </tr>\n",
       "  </tbody>\n",
       "</table>\n",
       "</div>"
      ],
      "text/plain": [
       "  show_id   type                 title      director  \\\n",
       "0      s1  Movie   The Grand Seduction  Don McKellar   \n",
       "1      s2  Movie  Take Care Good Night  Girish Joshi   \n",
       "\n",
       "                                               cast country      date_added  \\\n",
       "0    Brendan Gleeson, Taylor Kitsch, Gordon Pinsent  Canada  March 30, 2021   \n",
       "1  Mahesh Manjrekar, Abhay Mahajan, Sachin Khedekar   India  March 30, 2021   \n",
       "\n",
       "   release_year rating duration             listed_in  \\\n",
       "0          2014    NaN  113 min         Comedy, Drama   \n",
       "1          2018    13+  110 min  Drama, International   \n",
       "\n",
       "                                         description  \n",
       "0  A small fishing village must procure a local d...  \n",
       "1  A Metro Family decides to fight a Cyber Crimin...  "
      ]
     },
     "execution_count": 5,
     "metadata": {},
     "output_type": "execute_result"
    }
   ],
   "source": [
    "df.head(2)"
   ]
  },
  {
   "cell_type": "code",
   "execution_count": 6,
   "id": "3831a53a",
   "metadata": {},
   "outputs": [
    {
     "name": "stdout",
     "output_type": "stream",
     "text": [
      "<class 'pandas.core.frame.DataFrame'>\n",
      "RangeIndex: 22998 entries, 0 to 22997\n",
      "Data columns (total 12 columns):\n",
      " #   Column        Non-Null Count  Dtype \n",
      "---  ------        --------------  ----- \n",
      " 0   show_id       22998 non-null  object\n",
      " 1   type          22998 non-null  object\n",
      " 2   title         22998 non-null  object\n",
      " 3   director      14738 non-null  object\n",
      " 4   cast          17677 non-null  object\n",
      " 5   country       11499 non-null  object\n",
      " 6   date_added    13444 non-null  object\n",
      " 7   release_year  22998 non-null  int64 \n",
      " 8   rating        22134 non-null  object\n",
      " 9   duration      22516 non-null  object\n",
      " 10  listed_in     22998 non-null  object\n",
      " 11  description   22994 non-null  object\n",
      "dtypes: int64(1), object(11)\n",
      "memory usage: 2.1+ MB\n"
     ]
    }
   ],
   "source": [
    "df.info()"
   ]
  },
  {
   "cell_type": "code",
   "execution_count": 7,
   "id": "6833cbbf",
   "metadata": {},
   "outputs": [
    {
     "data": {
      "text/plain": [
       "show_id             0\n",
       "type                0\n",
       "title               0\n",
       "director         8260\n",
       "cast             5321\n",
       "country         11499\n",
       "date_added       9554\n",
       "release_year        0\n",
       "rating            864\n",
       "duration          482\n",
       "listed_in           0\n",
       "description         4\n",
       "dtype: int64"
      ]
     },
     "execution_count": 7,
     "metadata": {},
     "output_type": "execute_result"
    }
   ],
   "source": [
    "df.isnull().sum()"
   ]
  },
  {
   "cell_type": "code",
   "execution_count": 8,
   "id": "a21a24f4",
   "metadata": {
    "vscode": {
     "languageId": "ruby"
    }
   },
   "outputs": [],
   "source": [
    "# Fill null values in 'rating' and 'duration' columns with 'Unknown'\n",
    "df['rating'] = df['rating'].fillna('Unknown')\n",
    "df['duration'] = df['duration'].fillna('Unknown')\n",
    "\n",
    "\n",
    "df[['director', 'cast', 'country', 'date_added', 'description']] = df[['director', 'cast', 'country', 'date_added', 'description']].fillna('Not Available')"
   ]
  },
  {
   "cell_type": "code",
   "execution_count": 9,
   "id": "c725bc28",
   "metadata": {},
   "outputs": [
    {
     "data": {
      "text/plain": [
       "show_id         0\n",
       "type            0\n",
       "title           0\n",
       "director        0\n",
       "cast            0\n",
       "country         0\n",
       "date_added      0\n",
       "release_year    0\n",
       "rating          0\n",
       "duration        0\n",
       "listed_in       0\n",
       "description     0\n",
       "dtype: int64"
      ]
     },
     "execution_count": 9,
     "metadata": {},
     "output_type": "execute_result"
    }
   ],
   "source": [
    "df.isnull().sum() "
   ]
  },
  {
   "cell_type": "code",
   "execution_count": 10,
   "id": "6439ecbf",
   "metadata": {},
   "outputs": [
    {
     "name": "stdout",
     "output_type": "stream",
     "text": [
      "<class 'pandas.core.frame.DataFrame'>\n",
      "RangeIndex: 22998 entries, 0 to 22997\n",
      "Data columns (total 12 columns):\n",
      " #   Column        Non-Null Count  Dtype \n",
      "---  ------        --------------  ----- \n",
      " 0   show_id       22998 non-null  object\n",
      " 1   type          22998 non-null  object\n",
      " 2   title         22998 non-null  object\n",
      " 3   director      22998 non-null  object\n",
      " 4   cast          22998 non-null  object\n",
      " 5   country       22998 non-null  object\n",
      " 6   date_added    22998 non-null  object\n",
      " 7   release_year  22998 non-null  int64 \n",
      " 8   rating        22998 non-null  object\n",
      " 9   duration      22998 non-null  object\n",
      " 10  listed_in     22998 non-null  object\n",
      " 11  description   22998 non-null  object\n",
      "dtypes: int64(1), object(11)\n",
      "memory usage: 2.1+ MB\n"
     ]
    }
   ],
   "source": [
    "df.info()"
   ]
  },
  {
   "cell_type": "code",
   "execution_count": 11,
   "id": "5f0d476c",
   "metadata": {},
   "outputs": [],
   "source": [
    "df.drop('show_id', axis=1, inplace=True)\n",
    "df.drop('director', axis=1, inplace=True)\n",
    "df.drop('cast', axis=1, inplace=True)\n",
    "df.drop('country', axis=1, inplace=True)\n",
    "df.drop('description', axis=1, inplace=True)"
   ]
  },
  {
   "cell_type": "code",
   "execution_count": 12,
   "id": "07d46c65",
   "metadata": {},
   "outputs": [
    {
     "name": "stdout",
     "output_type": "stream",
     "text": [
      "<class 'pandas.core.frame.DataFrame'>\n",
      "RangeIndex: 22998 entries, 0 to 22997\n",
      "Data columns (total 7 columns):\n",
      " #   Column        Non-Null Count  Dtype \n",
      "---  ------        --------------  ----- \n",
      " 0   type          22998 non-null  object\n",
      " 1   title         22998 non-null  object\n",
      " 2   date_added    22998 non-null  object\n",
      " 3   release_year  22998 non-null  int64 \n",
      " 4   rating        22998 non-null  object\n",
      " 5   duration      22998 non-null  object\n",
      " 6   listed_in     22998 non-null  object\n",
      "dtypes: int64(1), object(6)\n",
      "memory usage: 1.2+ MB\n"
     ]
    }
   ],
   "source": [
    "df.info()"
   ]
  },
  {
   "cell_type": "code",
   "execution_count": 13,
   "id": "2bdc6e68",
   "metadata": {},
   "outputs": [],
   "source": [
    "df_clean = df.copy()"
   ]
  },
  {
   "cell_type": "code",
   "execution_count": 14,
   "id": "ca4ec78c",
   "metadata": {},
   "outputs": [
    {
     "data": {
      "text/html": [
       "<div>\n",
       "<style scoped>\n",
       "    .dataframe tbody tr th:only-of-type {\n",
       "        vertical-align: middle;\n",
       "    }\n",
       "\n",
       "    .dataframe tbody tr th {\n",
       "        vertical-align: top;\n",
       "    }\n",
       "\n",
       "    .dataframe thead th {\n",
       "        text-align: right;\n",
       "    }\n",
       "</style>\n",
       "<table border=\"1\" class=\"dataframe\">\n",
       "  <thead>\n",
       "    <tr style=\"text-align: right;\">\n",
       "      <th></th>\n",
       "      <th>type</th>\n",
       "      <th>title</th>\n",
       "      <th>date_added</th>\n",
       "      <th>release_year</th>\n",
       "      <th>rating</th>\n",
       "      <th>duration</th>\n",
       "      <th>listed_in</th>\n",
       "    </tr>\n",
       "  </thead>\n",
       "  <tbody>\n",
       "    <tr>\n",
       "      <th>0</th>\n",
       "      <td>Movie</td>\n",
       "      <td>The Grand Seduction</td>\n",
       "      <td>March 30, 2021</td>\n",
       "      <td>2014</td>\n",
       "      <td>Unknown</td>\n",
       "      <td>113 min</td>\n",
       "      <td>Comedy, Drama</td>\n",
       "    </tr>\n",
       "    <tr>\n",
       "      <th>1</th>\n",
       "      <td>Movie</td>\n",
       "      <td>Take Care Good Night</td>\n",
       "      <td>March 30, 2021</td>\n",
       "      <td>2018</td>\n",
       "      <td>13+</td>\n",
       "      <td>110 min</td>\n",
       "      <td>Drama, International</td>\n",
       "    </tr>\n",
       "    <tr>\n",
       "      <th>2</th>\n",
       "      <td>Movie</td>\n",
       "      <td>Secrets of Deception</td>\n",
       "      <td>March 30, 2021</td>\n",
       "      <td>2017</td>\n",
       "      <td>Unknown</td>\n",
       "      <td>74 min</td>\n",
       "      <td>Action, Drama, Suspense</td>\n",
       "    </tr>\n",
       "    <tr>\n",
       "      <th>3</th>\n",
       "      <td>Movie</td>\n",
       "      <td>Pink: Staying True</td>\n",
       "      <td>March 30, 2021</td>\n",
       "      <td>2014</td>\n",
       "      <td>Unknown</td>\n",
       "      <td>69 min</td>\n",
       "      <td>Documentary</td>\n",
       "    </tr>\n",
       "    <tr>\n",
       "      <th>4</th>\n",
       "      <td>Movie</td>\n",
       "      <td>Monster Maker</td>\n",
       "      <td>March 30, 2021</td>\n",
       "      <td>1989</td>\n",
       "      <td>Unknown</td>\n",
       "      <td>45 min</td>\n",
       "      <td>Drama, Fantasy</td>\n",
       "    </tr>\n",
       "  </tbody>\n",
       "</table>\n",
       "</div>"
      ],
      "text/plain": [
       "    type                 title      date_added  release_year   rating  \\\n",
       "0  Movie   The Grand Seduction  March 30, 2021          2014  Unknown   \n",
       "1  Movie  Take Care Good Night  March 30, 2021          2018      13+   \n",
       "2  Movie  Secrets of Deception  March 30, 2021          2017  Unknown   \n",
       "3  Movie    Pink: Staying True  March 30, 2021          2014  Unknown   \n",
       "4  Movie         Monster Maker  March 30, 2021          1989  Unknown   \n",
       "\n",
       "  duration                listed_in  \n",
       "0  113 min            Comedy, Drama  \n",
       "1  110 min     Drama, International  \n",
       "2   74 min  Action, Drama, Suspense  \n",
       "3   69 min              Documentary  \n",
       "4   45 min           Drama, Fantasy  "
      ]
     },
     "execution_count": 14,
     "metadata": {},
     "output_type": "execute_result"
    }
   ],
   "source": [
    "df_clean.to_csv('./Dataset/CleanDataSet.csv', index=False)\n",
    "df_clean.head(5)"
   ]
  },
  {
   "cell_type": "code",
   "execution_count": 15,
   "id": "a1762c81",
   "metadata": {},
   "outputs": [
    {
     "data": {
      "text/html": [
       "<div>\n",
       "<style scoped>\n",
       "    .dataframe tbody tr th:only-of-type {\n",
       "        vertical-align: middle;\n",
       "    }\n",
       "\n",
       "    .dataframe tbody tr th {\n",
       "        vertical-align: top;\n",
       "    }\n",
       "\n",
       "    .dataframe thead th {\n",
       "        text-align: right;\n",
       "    }\n",
       "</style>\n",
       "<table border=\"1\" class=\"dataframe\">\n",
       "  <thead>\n",
       "    <tr style=\"text-align: right;\">\n",
       "      <th></th>\n",
       "      <th>type</th>\n",
       "      <th>title</th>\n",
       "      <th>date_added</th>\n",
       "      <th>release_year</th>\n",
       "      <th>rating</th>\n",
       "      <th>duration</th>\n",
       "      <th>listed_in</th>\n",
       "    </tr>\n",
       "  </thead>\n",
       "  <tbody>\n",
       "    <tr>\n",
       "      <th>0</th>\n",
       "      <td>Movie</td>\n",
       "      <td>The Grand Seduction</td>\n",
       "      <td>March 30, 2021</td>\n",
       "      <td>2014</td>\n",
       "      <td>Unknown</td>\n",
       "      <td>113 min</td>\n",
       "      <td>Comedy, Drama</td>\n",
       "    </tr>\n",
       "    <tr>\n",
       "      <th>1</th>\n",
       "      <td>Movie</td>\n",
       "      <td>Take Care Good Night</td>\n",
       "      <td>March 30, 2021</td>\n",
       "      <td>2018</td>\n",
       "      <td>13+</td>\n",
       "      <td>110 min</td>\n",
       "      <td>Drama, International</td>\n",
       "    </tr>\n",
       "    <tr>\n",
       "      <th>2</th>\n",
       "      <td>Movie</td>\n",
       "      <td>Secrets of Deception</td>\n",
       "      <td>March 30, 2021</td>\n",
       "      <td>2017</td>\n",
       "      <td>Unknown</td>\n",
       "      <td>74 min</td>\n",
       "      <td>Action, Drama, Suspense</td>\n",
       "    </tr>\n",
       "    <tr>\n",
       "      <th>3</th>\n",
       "      <td>Movie</td>\n",
       "      <td>Pink: Staying True</td>\n",
       "      <td>March 30, 2021</td>\n",
       "      <td>2014</td>\n",
       "      <td>Unknown</td>\n",
       "      <td>69 min</td>\n",
       "      <td>Documentary</td>\n",
       "    </tr>\n",
       "    <tr>\n",
       "      <th>4</th>\n",
       "      <td>Movie</td>\n",
       "      <td>Monster Maker</td>\n",
       "      <td>March 30, 2021</td>\n",
       "      <td>1989</td>\n",
       "      <td>Unknown</td>\n",
       "      <td>45 min</td>\n",
       "      <td>Drama, Fantasy</td>\n",
       "    </tr>\n",
       "  </tbody>\n",
       "</table>\n",
       "</div>"
      ],
      "text/plain": [
       "    type                 title      date_added  release_year   rating  \\\n",
       "0  Movie   The Grand Seduction  March 30, 2021          2014  Unknown   \n",
       "1  Movie  Take Care Good Night  March 30, 2021          2018      13+   \n",
       "2  Movie  Secrets of Deception  March 30, 2021          2017  Unknown   \n",
       "3  Movie    Pink: Staying True  March 30, 2021          2014  Unknown   \n",
       "4  Movie         Monster Maker  March 30, 2021          1989  Unknown   \n",
       "\n",
       "  duration                listed_in  \n",
       "0  113 min            Comedy, Drama  \n",
       "1  110 min     Drama, International  \n",
       "2   74 min  Action, Drama, Suspense  \n",
       "3   69 min              Documentary  \n",
       "4   45 min           Drama, Fantasy  "
      ]
     },
     "execution_count": 15,
     "metadata": {},
     "output_type": "execute_result"
    }
   ],
   "source": [
    "df_clean = pd.read_csv('./Dataset/CleanDataSet.csv')\n",
    "df_clean.head()"
   ]
  },
  {
   "cell_type": "code",
   "execution_count": 16,
   "id": "1b86ef2c",
   "metadata": {},
   "outputs": [
    {
     "name": "stdout",
     "output_type": "stream",
     "text": [
      "type\n",
      "<bound method Series.unique of 0          Movie\n",
      "1          Movie\n",
      "2          Movie\n",
      "3          Movie\n",
      "4          Movie\n",
      "          ...   \n",
      "22993      Movie\n",
      "22994    TV Show\n",
      "22995      Movie\n",
      "22996      Movie\n",
      "22997      Movie\n",
      "Name: type, Length: 22998, dtype: object>\n",
      "####################\n",
      "release_year\n",
      "<bound method Series.unique of 0        2014\n",
      "1        2018\n",
      "2        2017\n",
      "3        2014\n",
      "4        1989\n",
      "         ... \n",
      "22993    2007\n",
      "22994    2018\n",
      "22995    2009\n",
      "22996    2006\n",
      "22997    2015\n",
      "Name: release_year, Length: 22998, dtype: int64>\n",
      "####################\n",
      "duration\n",
      "<bound method Series.unique of 0          113 min\n",
      "1          110 min\n",
      "2           74 min\n",
      "3           69 min\n",
      "4           45 min\n",
      "           ...    \n",
      "22993      158 min\n",
      "22994    2 Seasons\n",
      "22995       88 min\n",
      "22996       88 min\n",
      "22997      111 min\n",
      "Name: duration, Length: 22998, dtype: object>\n",
      "####################\n",
      "listed_in\n",
      "<bound method Series.unique of 0                                         Comedy, Drama\n",
      "1                                  Drama, International\n",
      "2                               Action, Drama, Suspense\n",
      "3                                           Documentary\n",
      "4                                        Drama, Fantasy\n",
      "                              ...                      \n",
      "22993                    Cult Movies, Dramas, Thrillers\n",
      "22994            Kids' TV, Korean TV Shows, TV Comedies\n",
      "22995                           Comedies, Horror Movies\n",
      "22996                Children & Family Movies, Comedies\n",
      "22997    Dramas, International Movies, Music & Musicals\n",
      "Name: listed_in, Length: 22998, dtype: object>\n",
      "####################\n",
      "rating\n",
      "<bound method Series.unique of 0        Unknown\n",
      "1            13+\n",
      "2        Unknown\n",
      "3        Unknown\n",
      "4        Unknown\n",
      "          ...   \n",
      "22993          R\n",
      "22994      TV-Y7\n",
      "22995          R\n",
      "22996         PG\n",
      "22997      TV-14\n",
      "Name: rating, Length: 22998, dtype: object>\n",
      "####################\n"
     ]
    }
   ],
   "source": [
    "columns = ['type', 'release_year', 'duration','listed_in','rating']\n",
    "for i in columns:\n",
    "    print(i)\n",
    "    print(df_clean[i].unique)\n",
    "    print('#'*20)\n",
    "    "
   ]
  },
  {
   "cell_type": "code",
   "execution_count": 17,
   "id": "931976ed",
   "metadata": {},
   "outputs": [
    {
     "name": "stdout",
     "output_type": "stream",
     "text": [
      "<class 'pandas.core.frame.DataFrame'>\n",
      "RangeIndex: 22998 entries, 0 to 22997\n",
      "Data columns (total 7 columns):\n",
      " #   Column        Non-Null Count  Dtype \n",
      "---  ------        --------------  ----- \n",
      " 0   type          22998 non-null  object\n",
      " 1   title         22998 non-null  object\n",
      " 2   date_added    22998 non-null  object\n",
      " 3   release_year  22998 non-null  int64 \n",
      " 4   rating        22998 non-null  object\n",
      " 5   duration      22998 non-null  object\n",
      " 6   listed_in     22998 non-null  object\n",
      "dtypes: int64(1), object(6)\n",
      "memory usage: 1.2+ MB\n"
     ]
    }
   ],
   "source": [
    "df_clean.info()"
   ]
  },
  {
   "cell_type": "code",
   "execution_count": 18,
   "id": "1cee4000",
   "metadata": {},
   "outputs": [],
   "source": [
    "df_clean.dropna(subset=[\"date_added\"], inplace=True)"
   ]
  },
  {
   "cell_type": "code",
   "execution_count": 19,
   "id": "b13bdd45",
   "metadata": {},
   "outputs": [
    {
     "name": "stdout",
     "output_type": "stream",
     "text": [
      "<class 'pandas.core.frame.DataFrame'>\n",
      "RangeIndex: 22998 entries, 0 to 22997\n",
      "Data columns (total 7 columns):\n",
      " #   Column        Non-Null Count  Dtype \n",
      "---  ------        --------------  ----- \n",
      " 0   type          22998 non-null  object\n",
      " 1   title         22998 non-null  object\n",
      " 2   date_added    22998 non-null  object\n",
      " 3   release_year  22998 non-null  int64 \n",
      " 4   rating        22998 non-null  object\n",
      " 5   duration      22998 non-null  object\n",
      " 6   listed_in     22998 non-null  object\n",
      "dtypes: int64(1), object(6)\n",
      "memory usage: 1.2+ MB\n"
     ]
    }
   ],
   "source": [
    "df_clean.info()"
   ]
  },
  {
   "cell_type": "code",
   "execution_count": 20,
   "id": "665f7a78",
   "metadata": {},
   "outputs": [],
   "source": [
    "from sklearn.preprocessing import LabelEncoder\n",
    "from sklearn.model_selection import train_test_split"
   ]
  },
  {
   "cell_type": "code",
   "execution_count": 21,
   "id": "02f2df85",
   "metadata": {},
   "outputs": [],
   "source": [
    "def encodeCols(cols):\n",
    "    for i in cols:\n",
    "        temp = pd.DataFrame({i: df_clean[i].unique()})\n",
    "        data_LE = LabelEncoder()\n",
    "        data_LE.fit(np.ravel(temp))\n",
    "        df_clean[i] = data_LE.transform(df_clean[i])\n",
    "\n",
    "columns = ['type', 'title', 'date_added', 'rating', 'duration', 'listed_in']\n",
    "encodeCols(columns)\n"
   ]
  },
  {
   "cell_type": "code",
   "execution_count": 22,
   "id": "89efa094",
   "metadata": {},
   "outputs": [],
   "source": [
    "df_clean.drop(columns=[\"date_added\"], inplace=True)"
   ]
  },
  {
   "cell_type": "code",
   "execution_count": 23,
   "id": "8d933495",
   "metadata": {},
   "outputs": [
    {
     "data": {
      "text/html": [
       "<div>\n",
       "<style scoped>\n",
       "    .dataframe tbody tr th:only-of-type {\n",
       "        vertical-align: middle;\n",
       "    }\n",
       "\n",
       "    .dataframe tbody tr th {\n",
       "        vertical-align: top;\n",
       "    }\n",
       "\n",
       "    .dataframe thead th {\n",
       "        text-align: right;\n",
       "    }\n",
       "</style>\n",
       "<table border=\"1\" class=\"dataframe\">\n",
       "  <thead>\n",
       "    <tr style=\"text-align: right;\">\n",
       "      <th></th>\n",
       "      <th>type</th>\n",
       "      <th>title</th>\n",
       "      <th>release_year</th>\n",
       "      <th>rating</th>\n",
       "      <th>duration</th>\n",
       "      <th>listed_in</th>\n",
       "    </tr>\n",
       "  </thead>\n",
       "  <tbody>\n",
       "    <tr>\n",
       "      <th>0</th>\n",
       "      <td>0</td>\n",
       "      <td>18141</td>\n",
       "      <td>2014</td>\n",
       "      <td>105</td>\n",
       "      <td>20</td>\n",
       "      <td>832</td>\n",
       "    </tr>\n",
       "    <tr>\n",
       "      <th>1</th>\n",
       "      <td>0</td>\n",
       "      <td>16917</td>\n",
       "      <td>2018</td>\n",
       "      <td>23</td>\n",
       "      <td>17</td>\n",
       "      <td>1237</td>\n",
       "    </tr>\n",
       "  </tbody>\n",
       "</table>\n",
       "</div>"
      ],
      "text/plain": [
       "   type  title  release_year  rating  duration  listed_in\n",
       "0     0  18141          2014     105        20        832\n",
       "1     0  16917          2018      23        17       1237"
      ]
     },
     "execution_count": 23,
     "metadata": {},
     "output_type": "execute_result"
    }
   ],
   "source": [
    "df_clean.head(2)"
   ]
  },
  {
   "cell_type": "code",
   "execution_count": 24,
   "id": "1078fc8f",
   "metadata": {},
   "outputs": [
    {
     "name": "stdout",
     "output_type": "stream",
     "text": [
      "<class 'pandas.core.frame.DataFrame'>\n",
      "RangeIndex: 22998 entries, 0 to 22997\n",
      "Data columns (total 6 columns):\n",
      " #   Column        Non-Null Count  Dtype\n",
      "---  ------        --------------  -----\n",
      " 0   type          22998 non-null  int64\n",
      " 1   title         22998 non-null  int64\n",
      " 2   release_year  22998 non-null  int64\n",
      " 3   rating        22998 non-null  int64\n",
      " 4   duration      22998 non-null  int64\n",
      " 5   listed_in     22998 non-null  int64\n",
      "dtypes: int64(6)\n",
      "memory usage: 1.1 MB\n"
     ]
    }
   ],
   "source": [
    "df_clean.info()"
   ]
  },
  {
   "cell_type": "code",
   "execution_count": 25,
   "id": "e69d252d",
   "metadata": {},
   "outputs": [],
   "source": [
    "X = df_clean[['title','release_year','duration','listed_in']]\n",
    "Y = df_clean['rating']\n",
    "\n",
    "trainX, testX, trainY, testY = train_test_split(X, Y, test_size=0.2, shuffle=False)"
   ]
  },
  {
   "cell_type": "code",
   "execution_count": 26,
   "id": "89b8f4de",
   "metadata": {},
   "outputs": [
    {
     "data": {
      "text/html": [
       "<div>\n",
       "<style scoped>\n",
       "    .dataframe tbody tr th:only-of-type {\n",
       "        vertical-align: middle;\n",
       "    }\n",
       "\n",
       "    .dataframe tbody tr th {\n",
       "        vertical-align: top;\n",
       "    }\n",
       "\n",
       "    .dataframe thead th {\n",
       "        text-align: right;\n",
       "    }\n",
       "</style>\n",
       "<table border=\"1\" class=\"dataframe\">\n",
       "  <thead>\n",
       "    <tr style=\"text-align: right;\">\n",
       "      <th></th>\n",
       "      <th>title</th>\n",
       "      <th>release_year</th>\n",
       "      <th>duration</th>\n",
       "      <th>listed_in</th>\n",
       "    </tr>\n",
       "  </thead>\n",
       "  <tbody>\n",
       "    <tr>\n",
       "      <th>0</th>\n",
       "      <td>18141</td>\n",
       "      <td>2014</td>\n",
       "      <td>20</td>\n",
       "      <td>832</td>\n",
       "    </tr>\n",
       "    <tr>\n",
       "      <th>1</th>\n",
       "      <td>16917</td>\n",
       "      <td>2018</td>\n",
       "      <td>17</td>\n",
       "      <td>1237</td>\n",
       "    </tr>\n",
       "  </tbody>\n",
       "</table>\n",
       "</div>"
      ],
      "text/plain": [
       "   title  release_year  duration  listed_in\n",
       "0  18141          2014        20        832\n",
       "1  16917          2018        17       1237"
      ]
     },
     "execution_count": 26,
     "metadata": {},
     "output_type": "execute_result"
    }
   ],
   "source": [
    "trainX.head(2)"
   ]
  },
  {
   "cell_type": "code",
   "execution_count": 27,
   "id": "c96c0426",
   "metadata": {},
   "outputs": [
    {
     "name": "stdout",
     "output_type": "stream",
     "text": [
      "Unique values in title are: [18141 16917 15405 ... 22072 22079 22086]\n",
      "Number of unique values in title are: 22115\n",
      "Data type of title is: int64\n",
      "Number of null values in title are: 0\n",
      "\n",
      "\n",
      "Unique values in release_year are: [2014 2018 2017 1989 2016 1994 2020 2019 2008 2001 1941 1991 2005 2015\n",
      " 2011 2013 1949 2007 2002 1955 1959 1983 2009 2012 2010 1986 1988 1920\n",
      " 1936 1992 2021 1993 2006 1948 1946 1944 1935 1985 1937 1970 1945 1939\n",
      " 1996 1997 1974 1938 1978 2004 1943 1975 1960 1934 1940 1961 2003 2000\n",
      " 1967 1995 1951 1932 1999 1963 1969 1952 1947 1929 1990 1925 1968 1987\n",
      " 1942 1979 1980 1981 1976 1966 1973 1956 1972 1950 1953 1982 1977 1933\n",
      " 1958 1984 1998 1924 1922 1926 1954 1930 1971 1965 1931 1923 1962 1964\n",
      " 1957 1927 1928]\n",
      "Number of unique values in release_year are: 101\n",
      "Data type of release_year is: int64\n",
      "Number of null values in release_year are: 0\n",
      "\n",
      "\n",
      "Unique values in duration are: [ 20  17 223 216 180 193 251  42 238 245 239 246 247 181 249   1   9 209\n",
      " 191 157 118 237 169 170   8 242  99  52 121 110 135 206 205 195 190 235\n",
      "  35  34  14 240 236 200 175  18 165 167 248 252 227 173 226 198 194  22\n",
      " 202 188  46 244 211 203 184  31 243   7 212  21  47 219  49   5 185 174\n",
      " 160  67 215 201 217 161  66  62 241  54  30 228  53 192  11 224 152  12\n",
      "  13 171  72 178  25  50 204  19  64 221 189  23  55 220 177 232 164 213\n",
      "  36  74 214 156  43   6  81 222 208 231 234 179  29 150 250 140  10 233\n",
      "  16  61  78  32 155   0  33  56 168 182  89 109 158  59 207 144 130  69\n",
      "  37  44  68  26 210  86  93  57 218  48 225 172 229  27  45  80   2  58\n",
      "  79 176  60  70  24  84  15 154 147 100 119 197 145  38  97  90 131  91\n",
      "  92   4  83  77  41 183  40 230   3  88  76  73 103  28  51  65 186 101\n",
      "  71 196  96 199 187  95 114  82  94 107 106  85 111 104 129 113 102 127\n",
      " 151  63 112 163  75 253 139 120  39  87 159 134 146 166 149 138 108 153\n",
      " 125 132 136 124 115 142 143 141 116 148 128 105 162 133  98 122 117 137\n",
      " 126 123]\n",
      "Number of unique values in duration are: 254\n",
      "Data type of duration is: int64\n",
      "Number of null values in duration are: 0\n",
      "\n",
      "\n",
      "Unique values in listed_in are: [ 832 1237  160 ...   36 1444 1045]\n",
      "Number of unique values in listed_in are: 1687\n",
      "Data type of listed_in is: int64\n",
      "Number of null values in listed_in are: 0\n",
      "\n",
      "\n"
     ]
    }
   ],
   "source": [
    "list= ['title', 'release_year', 'duration', 'listed_in']\n",
    "for i in list:\n",
    "    print(f\"Unique values in {i} are: {df_clean[i].unique()}\")\n",
    "    print(f\"Number of unique values in {i} are: {df_clean[i].nunique()}\")\n",
    "    print(f\"Data type of {i} is: {df_clean[i].dtype}\")\n",
    "    print(f\"Number of null values in {i} are: {df_clean[i].isnull().sum()}\")\n",
    "    print(\"\\n\")"
   ]
  },
  {
   "cell_type": "code",
   "execution_count": 28,
   "id": "e6041df9",
   "metadata": {},
   "outputs": [
    {
     "data": {
      "text/plain": [
       "0    105\n",
       "1     23\n",
       "2    105\n",
       "3    105\n",
       "4    105\n",
       "Name: rating, dtype: int64"
      ]
     },
     "execution_count": 28,
     "metadata": {},
     "output_type": "execute_result"
    }
   ],
   "source": [
    "trainY.head()"
   ]
  },
  {
   "cell_type": "code",
   "execution_count": 29,
   "id": "b3be309b",
   "metadata": {},
   "outputs": [
    {
     "name": "stdout",
     "output_type": "stream",
     "text": [
      "TrainX Shape: (18398, 4)\n",
      "TrainY Shape: (18398,)\n",
      "TestX Shape: (4600, 4)\n",
      "TestY Shape: (4600,)\n"
     ]
    }
   ],
   "source": [
    "print(f\"TrainX Shape: {trainX.shape}\\nTrainY Shape: {trainY.shape}\\nTestX Shape: {testX.shape}\\nTestY Shape: {testY.shape}\")"
   ]
  },
  {
   "cell_type": "code",
   "execution_count": 30,
   "id": "697d07fd",
   "metadata": {},
   "outputs": [],
   "source": [
    "import pickle\n",
    "from sklearn.svm import SVR"
   ]
  },
  {
   "cell_type": "code",
   "execution_count": 31,
   "id": "e75f4c14",
   "metadata": {},
   "outputs": [
    {
     "name": "stdout",
     "output_type": "stream",
     "text": [
      "SVR()\n"
     ]
    }
   ],
   "source": [
    "model_SVR = SVR()\n",
    "model_SVR.fit(trainX, trainY)\n",
    "\n",
    "print(model_SVR)"
   ]
  },
  {
   "cell_type": "code",
   "execution_count": 32,
   "id": "dadb6905",
   "metadata": {},
   "outputs": [],
   "source": [
    "svc_prediction = model_SVR.predict(testX)"
   ]
  },
  {
   "cell_type": "code",
   "execution_count": 33,
   "id": "9267c155",
   "metadata": {},
   "outputs": [
    {
     "name": "stdout",
     "output_type": "stream",
     "text": [
      "[94.25648403 93.05955844 93.55350534 ... 93.39340077 93.32865636\n",
      " 94.12563497]\n"
     ]
    }
   ],
   "source": [
    "print(svc_prediction)"
   ]
  },
  {
   "cell_type": "code",
   "execution_count": 34,
   "id": "49a2155f",
   "metadata": {},
   "outputs": [
    {
     "name": "stdout",
     "output_type": "stream",
     "text": [
      "---Model Mean Squared Error---11.81\n"
     ]
    }
   ],
   "source": [
    "from sklearn.metrics import mean_squared_error\n",
    "svc_mse = mean_squared_error(testY, svc_prediction)\n",
    "\n",
    "print(\"---Model Mean Squared Error---\", end='')\n",
    "print(round(svc_mse, 2))"
   ]
  },
  {
   "cell_type": "code",
   "execution_count": 35,
   "id": "a339a766",
   "metadata": {},
   "outputs": [
    {
     "name": "stdout",
     "output_type": "stream",
     "text": [
      "svc_prediction:  [94.25648403 93.05955844 93.55350534 ... 93.39340077 93.32865636\n",
      " 94.12563497]\n",
      "testY:  [97 99 95 ... 94 92 95]\n"
     ]
    }
   ],
   "source": [
    "print(\"svc_prediction: \", svc_prediction)\n",
    "print(\"testY: \", testY.values)"
   ]
  },
  {
   "cell_type": "code",
   "execution_count": 36,
   "id": "8d59dcae",
   "metadata": {},
   "outputs": [],
   "source": [
    "import pickle\n",
    "pickle.dump(model_SVR, open('model_SVR.pkl', 'wb'))\n",
    "model = pickle.load(open('model_SVR.pkl', 'rb'))"
   ]
  },
  {
   "cell_type": "code",
   "execution_count": 37,
   "id": "599ec555",
   "metadata": {},
   "outputs": [
    {
     "name": "stdout",
     "output_type": "stream",
     "text": [
      "---Model R^2 Score----0.8\n"
     ]
    }
   ],
   "source": [
    "from sklearn.metrics import r2_score\n",
    "svc_r2 = r2_score(testY, svc_prediction)\n",
    "\n",
    "print(\"---Model R^2 Score---\", end='')\n",
    "print(round(svc_r2, 2))"
   ]
  },
  {
   "cell_type": "code",
   "execution_count": null,
   "id": "125f21c9",
   "metadata": {},
   "outputs": [],
   "source": []
  },
  {
   "cell_type": "code",
   "execution_count": null,
   "id": "012021d9",
   "metadata": {},
   "outputs": [],
   "source": []
  }
 ],
 "metadata": {
  "kernelspec": {
   "display_name": "Python 3",
   "language": "python",
   "name": "python3"
  },
  "language_info": {
   "codemirror_mode": {
    "name": "ipython",
    "version": 3
   },
   "file_extension": ".py",
   "mimetype": "text/x-python",
   "name": "python",
   "nbconvert_exporter": "python",
   "pygments_lexer": "ipython3",
   "version": "3.13.3"
  }
 },
 "nbformat": 4,
 "nbformat_minor": 5
}
